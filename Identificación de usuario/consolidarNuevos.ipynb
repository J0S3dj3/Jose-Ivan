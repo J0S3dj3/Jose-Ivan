{
 "cells": [
  {
   "cell_type": "code",
   "execution_count": 2,
   "id": "cb6ed594",
   "metadata": {},
   "outputs": [],
   "source": [
    "import numpy as np\n",
    "from os import listdir\n",
    "from numpy import load\n",
    "from sklearn.preprocessing import LabelEncoder\n",
    "from sklearn.preprocessing import Normalizer\n",
    "from sklearn.svm import SVC\n",
    "from joblib import dump"
   ]
  },
  {
   "cell_type": "code",
   "execution_count": 4,
   "id": "59822f03",
   "metadata": {},
   "outputs": [],
   "source": [
    "def consolidar():  #Une todos los archivos embeddings guardados de los usuarios\n",
    "    path = 'DataBaseTemp/'\n",
    "    first = load('DataBaseTemp/' + listdir('DataBaseTemp')[0])\n",
    "    et, lt, ev, lv = first['arr_0'], first['arr_1'], first['arr_2'], first['arr_3']\n",
    "    e = concatenate((et, ev))\n",
    "    l = concatenate((lt, lv))\n",
    "    itern = iter(listdir('DataBaseTemp/'))\n",
    "    next(itern)\n",
    "    i = 1      # 1 porque hace uno antes del for\n",
    "    for user in itern:\n",
    "        data = load(path + user)\n",
    "        et, lt, ev, lv = data['arr_0'], data['arr_1'], data['arr_2'], data['arr_3']\n",
    "        e = np.concatenate((e, et, ev))\n",
    "        l = np.concatenate((l, lt, lv))\n",
    "        i +=1\n",
    "    print('Consolidados ' + str(i) + ' usuarios')\n",
    "    return e, l"
   ]
  },
  {
   "cell_type": "code",
   "execution_count": 5,
   "id": "e49fa3ed",
   "metadata": {},
   "outputs": [],
   "source": [
    "def modelos(e, l):\n",
    "    # normalize input vectors, Normaliza cada uno de los embebedings que entratan al clasificador(entrenamiento y validación)\n",
    "    in_encoder = Normalizer(norm='l2')\n",
    "    e = in_encoder.transform(e)\n",
    "    \n",
    "    # label encode targets          (Codifica las etiquetas de cada oreja para entrenar el clasificador)\n",
    "    out_encoder = LabelEncoder()\n",
    "    out_encoder.fit(l)\n",
    "    l = out_encoder.transform(l)\n",
    "    dump(out_encoder,'Models/out_encoder.joblib')\n",
    "    \n",
    "    # fit model                        (Enrena el clasificador con todos los datos de entrenamiento)\n",
    "    model = SVC(kernel='linear', probability=True)\n",
    "    model.fit(e, l)                 #(Se le ingresa las orejas y respectivas etiquetas para su entrenamiento)\n",
    "    dump(model,'Models/model.joblib')"
   ]
  },
  {
   "cell_type": "code",
   "execution_count": 6,
   "id": "3394a240",
   "metadata": {},
   "outputs": [
    {
     "name": "stdout",
     "output_type": "stream",
     "text": [
      "Consolidados 93 usuarios\n"
     ]
    }
   ],
   "source": [
    "e, l = consolidar()\n",
    "modelos(e, l)"
   ]
  }
 ],
 "metadata": {
  "kernelspec": {
   "display_name": "Python 3",
   "language": "python",
   "name": "python3"
  },
  "language_info": {
   "codemirror_mode": {
    "name": "ipython",
    "version": 3
   },
   "file_extension": ".py",
   "mimetype": "text/x-python",
   "name": "python",
   "nbconvert_exporter": "python",
   "pygments_lexer": "ipython3",
   "version": "3.6.13"
  }
 },
 "nbformat": 4,
 "nbformat_minor": 5
}
