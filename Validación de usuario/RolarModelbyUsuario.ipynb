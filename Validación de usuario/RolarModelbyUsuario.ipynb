{
 "cells": [
  {
   "cell_type": "code",
   "execution_count": 1,
   "id": "ec23d772",
   "metadata": {},
   "outputs": [
    {
     "name": "stderr",
     "output_type": "stream",
     "text": [
      "Using TensorFlow backend.\n"
     ]
    }
   ],
   "source": [
    "import cv2\n",
    "import os\n",
    "import numpy as np\n",
    "from numpy import expand_dims\n",
    "from keras.preprocessing.image import load_img\n",
    "from keras.preprocessing.image import img_to_array\n",
    "from keras.preprocessing.image import ImageDataGenerator\n",
    "from matplotlib import pyplot as plt\n",
    "from os import listdir\n",
    "from random import choice\n",
    "from numpy import savez_compressed\n",
    "from numpy import asarray\n",
    "from tensorflow.keras.preprocessing import image\n",
    "from numpy import load as load1\n",
    "from keras.models import load_model\n",
    "from sklearn.preprocessing import Normalizer\n",
    "from sklearn.preprocessing import LabelEncoder\n",
    "from sklearn.svm import SVC\n",
    "from joblib import dump, load"
   ]
  },
  {
   "cell_type": "code",
   "execution_count": 2,
   "id": "e48f58b7",
   "metadata": {},
   "outputs": [],
   "source": [
    "def tomarfoto():\n",
    "    print('Presiona la tecla g para capturar la foto')\n",
    "    print('Presiona la tecla q para salir')\n",
    "    cap = cv2.VideoCapture(0)\n",
    "    fotouser =[]\n",
    "    while True:\n",
    "        ret,frame = cap.read()\n",
    "        if not ret:\n",
    "            print('Fallo en lectura de la camara')\n",
    "            break\n",
    "        key = cv2.waitKey(1)\n",
    "        if key == ord('q'):\n",
    "            cap.release()\n",
    "            cv2.destroyAllWindows()\n",
    "            break\n",
    "        cv2.imshow('Camera', frame)\n",
    "        if key == ord('g'):\n",
    "            fotouser = frame     #Guarda la foto\n",
    "            print('foto capturada exitosamente')\n",
    "    return fotouser    # La funcion retorna la foto"
   ]
  },
  {
   "cell_type": "code",
   "execution_count": 3,
   "id": "052d8c04",
   "metadata": {},
   "outputs": [],
   "source": [
    "def Getear(foto):\n",
    "    copia = foto\n",
    "    earClassif = cv2.CascadeClassifier('cascade.xml')\n",
    "    gray = cv2.cvtColor(copia, cv2.COLOR_BGR2GRAY)\n",
    "    ear = earClassif.detectMultiScale(gray, scaleFactor=1.07, minNeighbors=10)  ##minNeig se cambia si no reconoce oreja\n",
    "    out = []\n",
    "    for (x,y,w,h) in ear:\n",
    "        out = foto[y-5:y+h+10,x-10:x+w+10]\n",
    "    plt.title(\"foto ear\")\n",
    "    plt.xlabel(\"X pixel scaling\")\n",
    "    plt.ylabel(\"Y pixels scaling\")\n",
    "    plt.imshow(out)\n",
    "    plt.show()\n",
    "    return out"
   ]
  },
  {
   "cell_type": "code",
   "execution_count": 4,
   "id": "de01e3f0",
   "metadata": {},
   "outputs": [],
   "source": [
    "def Aumentardatos(ear):\n",
    "    \n",
    "    #create image data augmentation generator\n",
    "\n",
    "    datagenb = ImageDataGenerator(brightness_range=[0.6,1.4])\n",
    "    datagenr = ImageDataGenerator(rotation_range= (16))\n",
    "    \n",
    "    #data = img_to_array(ear)\n",
    "    samples = expand_dims(ear, 0)\n",
    "    itb = datagenb.flow(samples, batch_size=1)\n",
    "    itr = datagenr.flow(samples, batch_size=1)\n",
    "    \n",
    "    fotos = list()\n",
    "    j = 0\n",
    "    for i in range(30):   #generara tantas como quiera cada iteracion saca una modificacion de la imagen original\n",
    "        \n",
    "        z = round(random.uniform(0.94,0.86),3)\n",
    "        datagenz = ImageDataGenerator(zoom_range=[z,z])        ## Zoom acerca\n",
    "        a = round(random.uniform(1.02,1.11),3)\n",
    "        datagena = ImageDataGenerator(zoom_range=[a,a])       ## aleja\n",
    "\n",
    "        itz = datagenz.flow(samples, batch_size=1)\n",
    "        ita = datagena.flow(samples, batch_size=1)\n",
    "        \n",
    "        # generate batch of images\n",
    "        batchz = itz.next()\n",
    "        batcha = ita.next()\n",
    "        batchr = itr.next()\n",
    "        batchb = itb.next()\n",
    "        \n",
    "        fotos.append(batchz[0].astype('uint8'))\n",
    "        fotos.append(batcha[0].astype('uint8'))\n",
    "        fotos.append(batchr[0].astype('uint8'))\n",
    "        fotos.append(batchb[0].astype('uint8'))\n",
    "    print('Datos aumentados guardados')\n",
    "    return fotos"
   ]
  },
  {
   "cell_type": "code",
   "execution_count": 6,
   "id": "ec6de190",
   "metadata": {},
   "outputs": [],
   "source": [
    "####Embedings#######\n",
    "# get the ear embedding for one ear\n",
    "def get_embedding(model, ear_pixels):\n",
    "    required_size = (160,160)\n",
    "    ear = cv2.resize(ear_pixels, required_size)   #(160,160)   #oreja lista\n",
    "    # scale pixel values\n",
    "    ear = ear.astype('float32')\n",
    "    # standardize pixel values across channels (global)  #esto es requisito para el modelo Facenet\n",
    "    mean, std = ear.mean(), ear.std()\n",
    "    ear = (ear - mean) / std\n",
    "    # transform ear into one sample\n",
    "    samples = expand_dims(ear, axis=0)\n",
    "    # make prediction to get embedding\n",
    "    yhat = model.predict(samples)\n",
    "    return yhat[0]"
   ]
  },
  {
   "cell_type": "code",
   "execution_count": 7,
   "id": "e5429246",
   "metadata": {},
   "outputs": [],
   "source": [
    "def AllEmbedings(data, user, code):\n",
    "    # code es los ultimos 3 digitos de la cedula del usuario\n",
    "    model  = load_model('facenet_keras.h5')\n",
    "    Emb    = list()\n",
    "    Label  = list()\n",
    "    DataBase = 'DataBase/'\n",
    "    \n",
    "    for ear in data:\n",
    "        emb = get_embedding(model, ear)\n",
    "        Emb.append(emb)\n",
    "        Label.append(user)\n",
    "\n",
    "    savez_compressed(DataBase + code + '.npz', Emb, Label)    ##embedings solo del usuario\n",
    "    return Emb, Label"
   ]
  },
  {
   "cell_type": "code",
   "execution_count": 8,
   "id": "2f52c287",
   "metadata": {},
   "outputs": [],
   "source": [
    "def sincro(NtrainE, NlabelsT, NvalE, NlabelsV, Emb,Label):\n",
    "    # SIncro embedings\n",
    "    Emb = asarray(Emb)    # Usuario\n",
    "    \n",
    "    e = np.concatenate((Emb, NvalE, NtrainE))   #Los embedings de validacion (usuario y negativo)\n",
    "     ##EL orden es usuario - Negativo\n",
    "\n",
    "    #Sincro labels\n",
    "    NlabelsV = NlabelsV.tolist()  # negativo de validacion en lista\n",
    "    NlabelsT = NlabelsT.tolist()  # negativo de entrenamiento en lista\n",
    "\n",
    "    l = Label + NlabelsV + NlabelsT   # Une labels de usuario y orejas negativas\n",
    "    return e, l"
   ]
  },
  {
   "cell_type": "code",
   "execution_count": 9,
   "id": "126ce1bb",
   "metadata": {},
   "outputs": [],
   "source": [
    "def models(e , l, code):\n",
    "# normalize input vectors      Normaliza cada uno de los embebedings que entratan al clasificador(entrenamiento y validación)\n",
    "    in_encoder = Normalizer(norm='l2')\n",
    "    X = in_encoder.transform(e)\n",
    "    \n",
    "# label encode targets              (Codifica las etiquetas de cada oreja para entrenar el clasificador)\n",
    "    out_encoder = LabelEncoder()\n",
    "    out_encoder.fit(l)\n",
    "    Y = out_encoder.transform(l)\n",
    "    ename = code + 'out_encoder.joblib'\n",
    "    dump(out_encoder,'Modelos/' + ename)            #Guarda este encoder\n",
    "    print('encoder guardado con éxito')\n",
    "    \n",
    "# fit model clasificador                       (Enrena el clasificador con todos los datos de entrenamiento)\n",
    "    model = SVC(kernel='linear', probability=True)\n",
    "    model.fit(X, Y)          #(Se le ingresa las orejas y respectivas etiquetas para su entrenamiento)\n",
    "    cname = code + 'model.joblib'\n",
    "    dump(model,'Modelos/' + cname)                  #Guarda este clasificador entrenado\n",
    "    print('clasificador guardado con éxito')"
   ]
  },
  {
   "cell_type": "code",
   "execution_count": 10,
   "id": "9584555b",
   "metadata": {},
   "outputs": [],
   "source": [
    "def Rolar():\n",
    "    print('Ingrese nombre de usuario: ')\n",
    "    user = input()\n",
    "    print('ingrese ultimos 3 digitos de la cedula: ')\n",
    "    code = input()\n",
    "    foto = tomarfoto()\n",
    "    ear  = Getear(foto)\n",
    "    print('¿Continuar? Si : y | No : n')\n",
    "    conti = input()\n",
    "    if conti == 'y':\n",
    "        orejas = Aumentardatos(ear)\n",
    "        e, l = AllEmbedings(orejas, user, code)\n",
    "        negative = load1('EmbedingsNegative.npz')\n",
    "        NtrainE, NlabelsT, NvalE, NlabelsV = negative['arr_0'], negative['arr_1'], negative['arr_2'], negative['arr_3']\n",
    "        e, l = sincro(NtrainE, NlabelsT, NvalE, NlabelsV, e, l)\n",
    "        models(e, l, code)"
   ]
  },
  {
   "cell_type": "code",
   "execution_count": 11,
   "id": "6d353cac",
   "metadata": {},
   "outputs": [
    {
     "name": "stdout",
     "output_type": "stream",
     "text": [
      "Ingrese nombre de usuario: \n",
      "Jose\n",
      "ingrese ultimos 3 digitos de la cedula: \n",
      "723\n",
      "Presiona la tecla g para capturar la foto\n",
      "Presiona la tecla q para salir\n",
      "foto capturada exitosamente\n"
     ]
    },
    {
     "data": {
      "image/png": "[encoded data removed]",
      "text/plain": [
       "<Figure size 432x288 with 1 Axes>"
      ]
     },
     "metadata": {
      "needs_background": "light"
     },
     "output_type": "display_data"
    },
    {
     "name": "stdout",
     "output_type": "stream",
     "text": [
      "¿Continuar? Si : y | No : n\n",
      "y\n",
      "Datos aumentados guardados\n"
     ]
    },
    {
     "name": "stderr",
     "output_type": "stream",
     "text": [
      "C:\\Users\\JOSE\\anaconda3\\envs\\biometrics\\lib\\site-packages\\keras\\engine\\saving.py:341: UserWarning: No training configuration found in save file: the model was *not* compiled. Compile it manually.\n",
      "  warnings.warn('No training configuration found in save file: '\n"
     ]
    },
    {
     "name": "stdout",
     "output_type": "stream",
     "text": [
      "encoder guardado con éxito\n",
      "clasificador guardado con éxito\n"
     ]
    }
   ],
   "source": [
    "Rolar()"
   ]
  }
 ],
 "metadata": {
  "kernelspec": {
   "display_name": "Python 3",
   "language": "python",
   "name": "python3"
  },
  "language_info": {
   "codemirror_mode": {
    "name": "ipython",
    "version": 3
   },
   "file_extension": ".py",
   "mimetype": "text/x-python",
   "name": "python",
   "nbconvert_exporter": "python",
   "pygments_lexer": "ipython3",
   "version": "3.6.13"
  }
 },
 "nbformat": 4,
 "nbformat_minor": 5
}
